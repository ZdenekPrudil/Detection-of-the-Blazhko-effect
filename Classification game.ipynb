{
 "cells": [
  {
   "cell_type": "code",
   "execution_count": 20,
   "metadata": {
    "ExecuteTime": {
     "end_time": "2020-12-01T11:39:41.802606Z",
     "start_time": "2020-12-01T11:39:41.800083Z"
    }
   },
   "outputs": [],
   "source": [
    "import numpy as np\n",
    "import matplotlib.pyplot as plt\n",
    "import pickle\n",
    "from astropy.io import ascii"
   ]
  },
  {
   "cell_type": "code",
   "execution_count": null,
   "metadata": {},
   "outputs": [],
   "source": []
  },
  {
   "cell_type": "markdown",
   "metadata": {
    "ExecuteTime": {
     "end_time": "2020-12-01T09:29:46.733588Z",
     "start_time": "2020-12-01T09:29:46.732059Z"
    }
   },
   "source": [
    "### Loading scaler and MLP"
   ]
  },
  {
   "cell_type": "code",
   "execution_count": 21,
   "metadata": {
    "ExecuteTime": {
     "end_time": "2020-12-01T11:39:42.666333Z",
     "start_time": "2020-12-01T11:39:42.661935Z"
    }
   },
   "outputs": [],
   "source": [
    "with open('Blazhko-BLG-StandardScaler.pkl', 'rb') as fid:\n",
    "    clf_sca = pickle.load(fid)\n",
    "    \n",
    "with open('MLP-Blazhko-BLG.pkl', 'rb') as fid:\n",
    "    clf_cla = pickle.load(fid)"
   ]
  },
  {
   "cell_type": "code",
   "execution_count": null,
   "metadata": {
    "ExecuteTime": {
     "end_time": "2020-12-01T11:40:01.366440Z",
     "start_time": "2020-12-01T11:40:01.359087Z"
    }
   },
   "outputs": [],
   "source": []
  },
  {
   "cell_type": "markdown",
   "metadata": {},
   "source": [
    "### Photometric data from the OGLE survey for the Galactic bulge"
   ]
  },
  {
   "cell_type": "code",
   "execution_count": 58,
   "metadata": {
    "ExecuteTime": {
     "end_time": "2020-12-01T11:50:29.917782Z",
     "start_time": "2020-12-01T11:50:28.466085Z"
    }
   },
   "outputs": [],
   "source": [
    "# http://www.astrouw.edu.pl/ogle/ogle4/OCVS/blg/rrlyr/RRab.dat\n",
    "# --- with replaced \"-\" by 0.0\n",
    "\n",
    "data = ascii.read(\"RRab.dat\")\n",
    "\n",
    "## Header ## \n",
    "## ID I V Per ePer M0 Amp R21 phi21 R31 phi31 ##\n",
    "\n",
    "per = data[\"col4\"]\n",
    "amp = data[\"col7\"]\n",
    "r21 = data[\"col8\"]\n",
    "phi21 = data[\"col9\"]\n",
    "r31 = data[\"col10\"]\n",
    "phi31 = data[\"col11\"]\n",
    "\n",
    "test_sample = np.vstack([per, amp, r21, phi21, r31, phi31]).T"
   ]
  },
  {
   "cell_type": "code",
   "execution_count": null,
   "metadata": {
    "ExecuteTime": {
     "end_time": "2020-12-01T11:49:37.591777Z",
     "start_time": "2020-12-01T11:49:37.516884Z"
    }
   },
   "outputs": [],
   "source": []
  },
  {
   "cell_type": "markdown",
   "metadata": {},
   "source": [
    "### MLP Magic"
   ]
  },
  {
   "cell_type": "code",
   "execution_count": 59,
   "metadata": {
    "ExecuteTime": {
     "end_time": "2020-12-01T11:50:32.647564Z",
     "start_time": "2020-12-01T11:50:31.546526Z"
    }
   },
   "outputs": [],
   "source": [
    "X_test_scaled = clf_sca.transform(test_sample)\n",
    "y_scoreMLP = clf_cla.predict(X_test_scaled)\n",
    "y_scoreMLP_proba = clf_cla.predict_proba(X_test_scaled)"
   ]
  },
  {
   "cell_type": "code",
   "execution_count": null,
   "metadata": {
    "ExecuteTime": {
     "end_time": "2020-12-01T11:41:23.053039Z",
     "start_time": "2020-12-01T11:41:23.046089Z"
    }
   },
   "outputs": [],
   "source": []
  },
  {
   "cell_type": "code",
   "execution_count": 63,
   "metadata": {
    "ExecuteTime": {
     "end_time": "2020-12-01T11:50:41.988800Z",
     "start_time": "2020-12-01T11:50:41.910888Z"
    }
   },
   "outputs": [
    {
     "name": "stdout",
     "output_type": "stream",
     "text": [
      "Using matplotlib backend: Qt5Agg\n"
     ]
    }
   ],
   "source": [
    "%matplotlib\n",
    "\n",
    "plt.scatter(r31[np.where(y_scoreMLP == 0)], phi21[np.where(y_scoreMLP == 0)], \n",
    "            s=1,zorder=-100, c=\"C3\", label=\"Modulated-class\")\n",
    "plt.scatter(r31[np.where(y_scoreMLP == 1)], phi21[np.where(y_scoreMLP == 1)], \n",
    "            s=1, c=\"C0\", label=\"Non-modulated-class\")\n",
    "plt.legend()\n",
    "plt.show()"
   ]
  },
  {
   "cell_type": "code",
   "execution_count": null,
   "metadata": {
    "ExecuteTime": {
     "end_time": "2020-12-01T11:50:33.729133Z",
     "start_time": "2020-12-01T11:50:33.707493Z"
    }
   },
   "outputs": [],
   "source": []
  },
  {
   "cell_type": "markdown",
   "metadata": {},
   "source": [
    "### Writting stuff"
   ]
  },
  {
   "cell_type": "code",
   "execution_count": 95,
   "metadata": {
    "ExecuteTime": {
     "end_time": "2020-07-28T14:29:45.457958Z",
     "start_time": "2020-07-28T14:29:44.705053Z"
    }
   },
   "outputs": [],
   "source": [
    "\n",
    "data[\"Class\"] = y_scoreMLP\n",
    "data[\"ClassProba_0\"] = y_scoreMLP_proba[:,0]\n",
    "data[\"ClassProba_1\"] = y_scoreMLP_proba[:,1]\n",
    "data.write('RRab-classified.dat', overwrite=True, format=\"ascii\") "
   ]
  },
  {
   "cell_type": "code",
   "execution_count": null,
   "metadata": {
    "ExecuteTime": {
     "end_time": "2020-12-01T09:48:15.294735Z",
     "start_time": "2020-12-01T09:48:15.281168Z"
    }
   },
   "outputs": [],
   "source": []
  },
  {
   "cell_type": "code",
   "execution_count": null,
   "metadata": {
    "ExecuteTime": {
     "end_time": "2020-07-28T14:31:08.803449Z",
     "start_time": "2020-07-28T14:31:05.938060Z"
    }
   },
   "outputs": [],
   "source": []
  },
  {
   "cell_type": "code",
   "execution_count": null,
   "metadata": {
    "ExecuteTime": {
     "end_time": "2020-07-28T14:31:43.762290Z",
     "start_time": "2020-07-28T14:31:42.994277Z"
    }
   },
   "outputs": [],
   "source": []
  },
  {
   "cell_type": "code",
   "execution_count": null,
   "metadata": {
    "ExecuteTime": {
     "end_time": "2020-12-01T09:48:48.117055Z",
     "start_time": "2020-12-01T09:48:48.106002Z"
    }
   },
   "outputs": [],
   "source": []
  },
  {
   "cell_type": "code",
   "execution_count": null,
   "metadata": {
    "ExecuteTime": {
     "end_time": "2020-07-28T13:55:23.554390Z",
     "start_time": "2020-07-28T13:55:23.436386Z"
    }
   },
   "outputs": [],
   "source": []
  },
  {
   "cell_type": "code",
   "execution_count": null,
   "metadata": {},
   "outputs": [],
   "source": []
  }
 ],
 "metadata": {
  "kernelspec": {
   "display_name": "Python 3",
   "language": "python",
   "name": "python3"
  },
  "language_info": {
   "codemirror_mode": {
    "name": "ipython",
    "version": 3
   },
   "file_extension": ".py",
   "mimetype": "text/x-python",
   "name": "python",
   "nbconvert_exporter": "python",
   "pygments_lexer": "ipython3",
   "version": "3.7.3"
  }
 },
 "nbformat": 4,
 "nbformat_minor": 4
}
